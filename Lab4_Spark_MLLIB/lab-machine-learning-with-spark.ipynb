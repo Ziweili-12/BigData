{
 "cells": [
  {
   "cell_type": "markdown",
   "metadata": {},
   "source": [
    "# Lab: Spark Machine Learning\n",
    "\n",
    "In this lab, you will build a simple ML pipeline and model with Spark Machine Learning."
   ]
  },
  {
   "cell_type": "markdown",
   "metadata": {},
   "source": [
    "Start your SparkSession:"
   ]
  },
  {
   "cell_type": "code",
   "execution_count": 1,
   "metadata": {},
   "outputs": [],
   "source": [
    "import findspark\n",
    "findspark.init()\n",
    "from pyspark.sql import SparkSession\n",
    "spark = SparkSession.builder.getOrCreate()"
   ]
  },
  {
   "cell_type": "code",
   "execution_count": 2,
   "metadata": {},
   "outputs": [
    {
     "data": {
      "text/html": [
       "\n",
       "            <div>\n",
       "                <p><b>SparkSession - in-memory</b></p>\n",
       "                \n",
       "        <div>\n",
       "            <p><b>SparkContext</b></p>\n",
       "\n",
       "            <p><a href=\"http://ip-172-31-76-51.ec2.internal:4040\">Spark UI</a></p>\n",
       "\n",
       "            <dl>\n",
       "              <dt>Version</dt>\n",
       "                <dd><code>v2.4.4</code></dd>\n",
       "              <dt>Master</dt>\n",
       "                <dd><code>yarn</code></dd>\n",
       "              <dt>AppName</dt>\n",
       "                <dd><code>pyspark-shell</code></dd>\n",
       "            </dl>\n",
       "        </div>\n",
       "        \n",
       "            </div>\n",
       "        "
      ],
      "text/plain": [
       "<pyspark.sql.session.SparkSession at 0x7f80f68bd790>"
      ]
     },
     "execution_count": 2,
     "metadata": {},
     "output_type": "execute_result"
    }
   ],
   "source": [
    "spark"
   ]
  },
  {
   "cell_type": "markdown",
   "metadata": {},
   "source": [
    "<a id=\"load\"></a>\n",
    "## 1. Load and explore data"
   ]
  },
  {
   "cell_type": "markdown",
   "metadata": {},
   "source": [
    "Load the file `s3://bigdatateaching/misc/gosales_tx_naivebayes.csv` into a DataFrame:"
   ]
  },
  {
   "cell_type": "code",
   "execution_count": 7,
   "metadata": {},
   "outputs": [],
   "source": [
    "df = spark.read.format('csv').option('header','true').option('inferSchema','true').load(\"s3://bigdatateaching/misc/gosales_tx_naivebayes.csv\")"
   ]
  },
  {
   "cell_type": "markdown",
   "metadata": {},
   "source": [
    "Print the schema of the DataFrame"
   ]
  },
  {
   "cell_type": "code",
   "execution_count": 9,
   "metadata": {},
   "outputs": [
    {
     "name": "stdout",
     "output_type": "stream",
     "text": [
      "root\n",
      " |-- PRODUCT_LINE: string (nullable = true)\n",
      " |-- GENDER: string (nullable = true)\n",
      " |-- AGE: integer (nullable = true)\n",
      " |-- MARITAL_STATUS: string (nullable = true)\n",
      " |-- PROFESSION: string (nullable = true)\n",
      "\n"
     ]
    }
   ],
   "source": [
    "df.printSchema()"
   ]
  },
  {
   "cell_type": "markdown",
   "metadata": {},
   "source": [
    "Print the first few records:"
   ]
  },
  {
   "cell_type": "code",
   "execution_count": 10,
   "metadata": {},
   "outputs": [
    {
     "name": "stdout",
     "output_type": "stream",
     "text": [
      "+--------------------+------+---+--------------+------------+\n",
      "|        PRODUCT_LINE|GENDER|AGE|MARITAL_STATUS|  PROFESSION|\n",
      "+--------------------+------+---+--------------+------------+\n",
      "|Personal Accessories|     M| 27|        Single|Professional|\n",
      "|Personal Accessories|     F| 39|       Married|       Other|\n",
      "|Mountaineering Eq...|     F| 39|       Married|       Other|\n",
      "|Personal Accessories|     F| 56|   Unspecified| Hospitality|\n",
      "|      Golf Equipment|     M| 45|       Married|     Retired|\n",
      "|      Golf Equipment|     M| 45|       Married|     Retired|\n",
      "|   Camping Equipment|     F| 39|       Married|       Other|\n",
      "|   Camping Equipment|     F| 49|       Married|       Other|\n",
      "|  Outdoor Protection|     F| 49|       Married|       Other|\n",
      "|      Golf Equipment|     M| 47|       Married|     Retired|\n",
      "|      Golf Equipment|     M| 47|       Married|     Retired|\n",
      "|Mountaineering Eq...|     M| 21|        Single|      Retail|\n",
      "|Personal Accessories|     F| 66|       Married|       Other|\n",
      "|   Camping Equipment|     F| 35|       Married|Professional|\n",
      "|Mountaineering Eq...|     M| 20|        Single|       Sales|\n",
      "|Mountaineering Eq...|     M| 20|        Single|       Sales|\n",
      "|Mountaineering Eq...|     M| 20|        Single|       Sales|\n",
      "|Personal Accessories|     F| 37|        Single|       Other|\n",
      "|   Camping Equipment|     M| 42|       Married|       Other|\n",
      "|   Camping Equipment|     F| 24|       Married|      Retail|\n",
      "+--------------------+------+---+--------------+------------+\n",
      "only showing top 20 rows\n",
      "\n"
     ]
    }
   ],
   "source": [
    "df.show()"
   ]
  },
  {
   "cell_type": "markdown",
   "metadata": {},
   "source": [
    "Count the number of records:"
   ]
  },
  {
   "cell_type": "code",
   "execution_count": 11,
   "metadata": {},
   "outputs": [
    {
     "data": {
      "text/plain": [
       "60252"
      ]
     },
     "execution_count": 11,
     "metadata": {},
     "output_type": "execute_result"
    }
   ],
   "source": [
    "df.count()"
   ]
  },
  {
   "cell_type": "markdown",
   "metadata": {},
   "source": [
    "### 2.1: Prepare data\n",
    "\n",
    "In this subsection you will split your data into: train, test and predict datasets. Create three splits of  `df_data` (train, test, predict) by using the `randomSplit` method:"
   ]
  },
  {
   "cell_type": "code",
   "execution_count": 12,
   "metadata": {},
   "outputs": [],
   "source": [
    "splitted_data = df.randomSplit([0.8,0.18,0.02],24)"
   ]
  },
  {
   "cell_type": "code",
   "execution_count": 13,
   "metadata": {},
   "outputs": [],
   "source": [
    "train_data = splitted_data[0]\n",
    "test_data = splitted_data[1]\n",
    "predict_data = splitted_data[2]"
   ]
  },
  {
   "cell_type": "code",
   "execution_count": 15,
   "metadata": {},
   "outputs": [
    {
     "data": {
      "text/plain": [
       "48176"
      ]
     },
     "execution_count": 15,
     "metadata": {},
     "output_type": "execute_result"
    }
   ],
   "source": [
    "train_data.count()"
   ]
  },
  {
   "cell_type": "code",
   "execution_count": 17,
   "metadata": {},
   "outputs": [
    {
     "data": {
      "text/plain": [
       "10860"
      ]
     },
     "execution_count": 17,
     "metadata": {},
     "output_type": "execute_result"
    }
   ],
   "source": [
    "test_data.count()"
   ]
  },
  {
   "cell_type": "markdown",
   "metadata": {},
   "source": [
    "### 2.2: Create pipeline and train a model"
   ]
  },
  {
   "cell_type": "markdown",
   "metadata": {},
   "source": [
    "For this lab, your job is to build a model that classifies the `PRODUCT_LINE`. In this section you will create a machine learning pipeline and then train the model. The next cell imports all the packages you will need:"
   ]
  },
  {
   "cell_type": "code",
   "execution_count": 18,
   "metadata": {},
   "outputs": [],
   "source": [
    "from pyspark.ml.feature import OneHotEncoder, StringIndexer, IndexToString, VectorAssembler\n",
    "from pyspark.ml.classification import RandomForestClassifier\n",
    "from pyspark.ml.evaluation import MulticlassClassificationEvaluator\n",
    "from pyspark.ml import Pipeline, Model"
   ]
  },
  {
   "cell_type": "markdown",
   "metadata": {},
   "source": [
    "In the following step, convert all the string fields to numeric ones. Look at the DataFrame structure to determine which ones you need to convert. Use the `StringIndexer` transformer. You need to create a transformer for each columnt you want to modify."
   ]
  },
  {
   "cell_type": "code",
   "execution_count": 26,
   "metadata": {},
   "outputs": [],
   "source": [
    "stringindexer_label = StringIndexer(inputCol=\"PRODUCT_LINE\",outputCol='label')\n",
    "stringindexer_prof = StringIndexer(inputCol='PROFESSION',outputCol=\"PROFESSION_IX\")\n",
    "stringindexer_gend = StringIndexer(inputCol='GENDER',outputCol=\"GENDER_IX\")\n",
    "stringindexer_mar = StringIndexer(inputCol=\"MARITAL_STATUS\",outputCol=\"MARITAL_STATUS_IX\")\n"
   ]
  },
  {
   "cell_type": "markdown",
   "metadata": {},
   "source": [
    "Try looking at the values for one of the re-encoded columns using the `labels` method. Does it work?"
   ]
  },
  {
   "cell_type": "code",
   "execution_count": 21,
   "metadata": {},
   "outputs": [
    {
     "ename": "AttributeError",
     "evalue": "'StringIndexer' object has no attribute 'labels'",
     "output_type": "error",
     "traceback": [
      "\u001b[0;31m---------------------------------------------------------------------------\u001b[0m",
      "\u001b[0;31mAttributeError\u001b[0m                            Traceback (most recent call last)",
      "\u001b[0;32m<ipython-input-21-850113f63f29>\u001b[0m in \u001b[0;36m<module>\u001b[0;34m\u001b[0m\n\u001b[0;32m----> 1\u001b[0;31m \u001b[0mstringindexer_label\u001b[0m\u001b[0;34m.\u001b[0m\u001b[0mlabels\u001b[0m\u001b[0;34m\u001b[0m\u001b[0;34m\u001b[0m\u001b[0m\n\u001b[0m",
      "\u001b[0;31mAttributeError\u001b[0m: 'StringIndexer' object has no attribute 'labels'"
     ]
    }
   ],
   "source": [
    "stringindexer_label.labels"
   ]
  },
  {
   "cell_type": "markdown",
   "metadata": {},
   "source": [
    "To see the values, the transformer needs to be executed first, and you can do so by using the `fit` method. Try now:"
   ]
  },
  {
   "cell_type": "code",
   "execution_count": 22,
   "metadata": {},
   "outputs": [],
   "source": [
    "si_label_fit = StringIndexer(inputCol=\"PRODUCT_LINE\",outputCol='label').fit(df)"
   ]
  },
  {
   "cell_type": "code",
   "execution_count": 24,
   "metadata": {},
   "outputs": [
    {
     "data": {
      "text/plain": [
       "['Camping Equipment',\n",
       " 'Personal Accessories',\n",
       " 'Mountaineering Equipment',\n",
       " 'Golf Equipment',\n",
       " 'Outdoor Protection']"
      ]
     },
     "execution_count": 24,
     "metadata": {},
     "output_type": "execute_result"
    }
   ],
   "source": [
    "si_label_fit.labels"
   ]
  },
  {
   "cell_type": "code",
   "execution_count": 25,
   "metadata": {},
   "outputs": [
    {
     "ename": "AttributeError",
     "evalue": "'StringIndexerModel' object has no attribute 'printSchema'",
     "output_type": "error",
     "traceback": [
      "\u001b[0;31m---------------------------------------------------------------------------\u001b[0m",
      "\u001b[0;31mAttributeError\u001b[0m                            Traceback (most recent call last)",
      "\u001b[0;32m<ipython-input-25-193285ead251>\u001b[0m in \u001b[0;36m<module>\u001b[0;34m\u001b[0m\n\u001b[0;32m----> 1\u001b[0;31m \u001b[0msi_label_fit\u001b[0m\u001b[0;34m.\u001b[0m\u001b[0mprintSchema\u001b[0m\u001b[0;34m(\u001b[0m\u001b[0;34m)\u001b[0m\u001b[0;34m\u001b[0m\u001b[0;34m\u001b[0m\u001b[0m\n\u001b[0m",
      "\u001b[0;31mAttributeError\u001b[0m: 'StringIndexerModel' object has no attribute 'printSchema'"
     ]
    }
   ],
   "source": [
    "si_label_fit.printSchema()"
   ]
  },
  {
   "cell_type": "markdown",
   "metadata": {},
   "source": [
    "In the following step, create a feature vector by combining all string features together usinf the `vectorAssembler` method:"
   ]
  },
  {
   "cell_type": "code",
   "execution_count": 27,
   "metadata": {},
   "outputs": [],
   "source": [
    "vectorassembler_features = VectorAssembler(inputCols=['GENDER_IX',\"AGE\",\"MARITAL_STATUS_IX\",\"PROFESSION_IX\"],outputCol='features')"
   ]
  },
  {
   "cell_type": "code",
   "execution_count": 28,
   "metadata": {},
   "outputs": [
    {
     "data": {
      "text/plain": [
       "VectorAssembler_3acf68ee2e4f"
      ]
     },
     "execution_count": 28,
     "metadata": {},
     "output_type": "execute_result"
    }
   ],
   "source": [
    "vectorassembler_features"
   ]
  },
  {
   "cell_type": "markdown",
   "metadata": {},
   "source": [
    "Next, define estimators you want to use for classification. You will build a Random Forest using the `RandomForestClassifier` estimator:"
   ]
  },
  {
   "cell_type": "code",
   "execution_count": 31,
   "metadata": {},
   "outputs": [],
   "source": [
    "rf = RandomForestClassifier(labelCol='label',featuresCol=\"features\")"
   ]
  },
  {
   "cell_type": "markdown",
   "metadata": {},
   "source": [
    "Finally, indexed labels back to original labels."
   ]
  },
  {
   "cell_type": "code",
   "execution_count": 29,
   "metadata": {},
   "outputs": [],
   "source": [
    "labelConverter = IndexToString(inputCol=\"prediction\",\n",
    "                               outputCol='predictedLabel',\n",
    "                               labels=stringindexer_label.fit(df).labels)"
   ]
  },
  {
   "cell_type": "markdown",
   "metadata": {},
   "source": [
    "Let's build the pipeline now. A pipeline consists of transformers and an estimator."
   ]
  },
  {
   "cell_type": "code",
   "execution_count": 32,
   "metadata": {},
   "outputs": [],
   "source": [
    "pipeline_rf = Pipeline(stages=[stringindexer_label,\n",
    "                              stringindexer_prof,\n",
    "                              stringindexer_gend,\n",
    "                              stringindexer_mar,\n",
    "                              vectorassembler_features,\n",
    "                              rf,labelConverter])"
   ]
  },
  {
   "cell_type": "markdown",
   "metadata": {},
   "source": [
    "Now, you can train your Random Forest model by using the previously defined **pipeline** and **train data**."
   ]
  },
  {
   "cell_type": "code",
   "execution_count": 34,
   "metadata": {},
   "outputs": [
    {
     "name": "stdout",
     "output_type": "stream",
     "text": [
      "+-----------------+------+---+--------------+-----------+\n",
      "|     PRODUCT_LINE|GENDER|AGE|MARITAL_STATUS| PROFESSION|\n",
      "+-----------------+------+---+--------------+-----------+\n",
      "|Camping Equipment|     F| 18|        Single|      Other|\n",
      "|Camping Equipment|     F| 18|        Single|      Other|\n",
      "|Camping Equipment|     F| 18|        Single|     Retail|\n",
      "|Camping Equipment|     F| 18|        Single|     Retail|\n",
      "|Camping Equipment|     F| 19|        Single|Hospitality|\n",
      "|Camping Equipment|     F| 19|        Single|Hospitality|\n",
      "|Camping Equipment|     F| 19|        Single|Hospitality|\n",
      "|Camping Equipment|     F| 19|        Single|Hospitality|\n",
      "|Camping Equipment|     F| 19|        Single|Hospitality|\n",
      "|Camping Equipment|     F| 19|        Single|Hospitality|\n",
      "|Camping Equipment|     F| 19|        Single|Hospitality|\n",
      "|Camping Equipment|     F| 19|        Single|Hospitality|\n",
      "|Camping Equipment|     F| 19|        Single|Hospitality|\n",
      "|Camping Equipment|     F| 19|        Single|Hospitality|\n",
      "|Camping Equipment|     F| 19|        Single|Hospitality|\n",
      "|Camping Equipment|     F| 19|        Single|Hospitality|\n",
      "|Camping Equipment|     F| 19|        Single|Hospitality|\n",
      "|Camping Equipment|     F| 19|        Single|Hospitality|\n",
      "|Camping Equipment|     F| 19|        Single|Hospitality|\n",
      "|Camping Equipment|     F| 19|        Single|Hospitality|\n",
      "+-----------------+------+---+--------------+-----------+\n",
      "only showing top 20 rows\n",
      "\n"
     ]
    }
   ],
   "source": []
  },
  {
   "cell_type": "code",
   "execution_count": null,
   "metadata": {},
   "outputs": [],
   "source": []
  },
  {
   "cell_type": "markdown",
   "metadata": {},
   "source": [
    "You can check your **model accuracy** now. To evaluate the model, use **test data**."
   ]
  },
  {
   "cell_type": "code",
   "execution_count": 35,
   "metadata": {},
   "outputs": [],
   "source": [
    "model_rf = pipeline_rf.fit(train_data)"
   ]
  },
  {
   "cell_type": "code",
   "execution_count": 43,
   "metadata": {},
   "outputs": [],
   "source": [
    "predictions = model_rf.transform(test_data)"
   ]
  },
  {
   "cell_type": "code",
   "execution_count": 44,
   "metadata": {},
   "outputs": [
    {
     "name": "stdout",
     "output_type": "stream",
     "text": [
      "+-----------------+------+---+--------------+-----------+-----+-------------+---------+-----------------+------------------+--------------------+--------------------+----------+--------------------+\n",
      "|     PRODUCT_LINE|GENDER|AGE|MARITAL_STATUS| PROFESSION|label|PROFESSION_IX|GENDER_IX|MARITAL_STATUS_IX|          features|       rawPrediction|         probability|prediction|      predictedLabel|\n",
      "+-----------------+------+---+--------------+-----------+-----+-------------+---------+-----------------+------------------+--------------------+--------------------+----------+--------------------+\n",
      "|Camping Equipment|     F| 18|        Single|      Other|  0.0|          0.0|      1.0|              1.0|[1.0,18.0,1.0,0.0]|[4.49916516171064...|[0.22495825808553...|       1.0|Personal Accessories|\n",
      "|Camping Equipment|     F| 18|        Single|     Retail|  0.0|          7.0|      1.0|              1.0|[1.0,18.0,1.0,7.0]|[3.70782298786380...|[0.18539114939319...|       1.0|Personal Accessories|\n",
      "|Camping Equipment|     F| 19|        Single|Hospitality|  0.0|          5.0|      1.0|              1.0|[1.0,19.0,1.0,5.0]|[9.12337799811205...|[0.45616889990560...|       0.0|   Camping Equipment|\n",
      "|Camping Equipment|     F| 19|        Single|Hospitality|  0.0|          5.0|      1.0|              1.0|[1.0,19.0,1.0,5.0]|[9.12337799811205...|[0.45616889990560...|       0.0|   Camping Equipment|\n",
      "|Camping Equipment|     F| 19|        Single|Hospitality|  0.0|          5.0|      1.0|              1.0|[1.0,19.0,1.0,5.0]|[9.12337799811205...|[0.45616889990560...|       0.0|   Camping Equipment|\n",
      "|Camping Equipment|     F| 19|        Single|Hospitality|  0.0|          5.0|      1.0|              1.0|[1.0,19.0,1.0,5.0]|[9.12337799811205...|[0.45616889990560...|       0.0|   Camping Equipment|\n",
      "|Camping Equipment|     F| 19|        Single|      Other|  0.0|          0.0|      1.0|              1.0|[1.0,19.0,1.0,0.0]|[4.49916516171064...|[0.22495825808553...|       1.0|Personal Accessories|\n",
      "|Camping Equipment|     F| 19|        Single|      Other|  0.0|          0.0|      1.0|              1.0|[1.0,19.0,1.0,0.0]|[4.49916516171064...|[0.22495825808553...|       1.0|Personal Accessories|\n",
      "|Camping Equipment|     F| 19|        Single|      Other|  0.0|          0.0|      1.0|              1.0|[1.0,19.0,1.0,0.0]|[4.49916516171064...|[0.22495825808553...|       1.0|Personal Accessories|\n",
      "|Camping Equipment|     F| 19|        Single|      Other|  0.0|          0.0|      1.0|              1.0|[1.0,19.0,1.0,0.0]|[4.49916516171064...|[0.22495825808553...|       1.0|Personal Accessories|\n",
      "|Camping Equipment|     F| 19|        Single|      Other|  0.0|          0.0|      1.0|              1.0|[1.0,19.0,1.0,0.0]|[4.49916516171064...|[0.22495825808553...|       1.0|Personal Accessories|\n",
      "|Camping Equipment|     F| 19|        Single|      Other|  0.0|          0.0|      1.0|              1.0|[1.0,19.0,1.0,0.0]|[4.49916516171064...|[0.22495825808553...|       1.0|Personal Accessories|\n",
      "|Camping Equipment|     F| 19|        Single|      Other|  0.0|          0.0|      1.0|              1.0|[1.0,19.0,1.0,0.0]|[4.49916516171064...|[0.22495825808553...|       1.0|Personal Accessories|\n",
      "|Camping Equipment|     F| 19|        Single|      Other|  0.0|          0.0|      1.0|              1.0|[1.0,19.0,1.0,0.0]|[4.49916516171064...|[0.22495825808553...|       1.0|Personal Accessories|\n",
      "|Camping Equipment|     F| 19|        Single|      Other|  0.0|          0.0|      1.0|              1.0|[1.0,19.0,1.0,0.0]|[4.49916516171064...|[0.22495825808553...|       1.0|Personal Accessories|\n",
      "|Camping Equipment|     F| 19|        Single|      Other|  0.0|          0.0|      1.0|              1.0|[1.0,19.0,1.0,0.0]|[4.49916516171064...|[0.22495825808553...|       1.0|Personal Accessories|\n",
      "|Camping Equipment|     F| 19|        Single|      Other|  0.0|          0.0|      1.0|              1.0|[1.0,19.0,1.0,0.0]|[4.49916516171064...|[0.22495825808553...|       1.0|Personal Accessories|\n",
      "|Camping Equipment|     F| 19|        Single|      Other|  0.0|          0.0|      1.0|              1.0|[1.0,19.0,1.0,0.0]|[4.49916516171064...|[0.22495825808553...|       1.0|Personal Accessories|\n",
      "|Camping Equipment|     F| 19|        Single|      Other|  0.0|          0.0|      1.0|              1.0|[1.0,19.0,1.0,0.0]|[4.49916516171064...|[0.22495825808553...|       1.0|Personal Accessories|\n",
      "|Camping Equipment|     F| 19|        Single|      Other|  0.0|          0.0|      1.0|              1.0|[1.0,19.0,1.0,0.0]|[4.49916516171064...|[0.22495825808553...|       1.0|Personal Accessories|\n",
      "+-----------------+------+---+--------------+-----------+-----+-------------+---------+-----------------+------------------+--------------------+--------------------+----------+--------------------+\n",
      "only showing top 20 rows\n",
      "\n"
     ]
    }
   ],
   "source": [
    "predictions.show()"
   ]
  },
  {
   "cell_type": "code",
   "execution_count": 50,
   "metadata": {},
   "outputs": [
    {
     "name": "stdout",
     "output_type": "stream",
     "text": [
      "Accuracy = 0.584346\n",
      "Test error0.41565377532228365\n"
     ]
    }
   ],
   "source": [
    "evaluatorRF = MulticlassClassificationEvaluator(labelCol='label',predictionCol='prediction',metricName=\"accuracy\")\n",
    "accuracy = evaluatorRF.evaluate(predictions)\n",
    "\n",
    "print(\"Accuracy = %g\"%(accuracy))\n",
    "print(\"Test error{}\".format((1-accuracy)))"
   ]
  },
  {
   "cell_type": "code",
   "execution_count": null,
   "metadata": {},
   "outputs": [],
   "source": []
  }
 ],
 "metadata": {
  "kernelspec": {
   "display_name": "Python 3",
   "language": "python",
   "name": "python3"
  },
  "language_info": {
   "codemirror_mode": {
    "name": "ipython",
    "version": 3
   },
   "file_extension": ".py",
   "mimetype": "text/x-python",
   "name": "python",
   "nbconvert_exporter": "python",
   "pygments_lexer": "ipython3",
   "version": "3.7.7"
  }
 },
 "nbformat": 4,
 "nbformat_minor": 4
}
